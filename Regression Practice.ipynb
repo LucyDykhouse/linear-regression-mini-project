{
 "cells": [
  {
   "cell_type": "markdown",
   "metadata": {},
   "source": [
    "# Cleaning and Exploring Data"
   ]
  },
  {
   "cell_type": "code",
   "execution_count": 1,
   "metadata": {},
   "outputs": [],
   "source": [
    "import numpy as np\n",
    "import pandas as pd"
   ]
  },
  {
   "cell_type": "code",
   "execution_count": 2,
   "metadata": {},
   "outputs": [],
   "source": [
    "df = pd.read_csv('average-rainfall-temperature-1.csv', usecols=[0,6,7,8,9,10,11])"
   ]
  },
  {
   "cell_type": "code",
   "execution_count": 3,
   "metadata": {},
   "outputs": [
    {
     "data": {
      "text/html": [
       "<div>\n",
       "<style scoped>\n",
       "    .dataframe tbody tr th:only-of-type {\n",
       "        vertical-align: middle;\n",
       "    }\n",
       "\n",
       "    .dataframe tbody tr th {\n",
       "        vertical-align: top;\n",
       "    }\n",
       "\n",
       "    .dataframe thead th {\n",
       "        text-align: right;\n",
       "    }\n",
       "</style>\n",
       "<table border=\"1\" class=\"dataframe\">\n",
       "  <thead>\n",
       "    <tr style=\"text-align: right;\">\n",
       "      <th></th>\n",
       "      <th>OrganisationName</th>\n",
       "      <th>GeoName</th>\n",
       "      <th>ReportingPeriodType</th>\n",
       "      <th>Year</th>\n",
       "      <th>Period</th>\n",
       "      <th>Rainfallmm</th>\n",
       "      <th>Temp</th>\n",
       "    </tr>\n",
       "  </thead>\n",
       "  <tbody>\n",
       "    <tr>\n",
       "      <th>0</th>\n",
       "      <td>Lincolnshire</td>\n",
       "      <td>England E &amp; NE</td>\n",
       "      <td>Monthly</td>\n",
       "      <td>2010</td>\n",
       "      <td>JAN</td>\n",
       "      <td>69.5</td>\n",
       "      <td>0.8</td>\n",
       "    </tr>\n",
       "    <tr>\n",
       "      <th>1</th>\n",
       "      <td>Lincolnshire</td>\n",
       "      <td>England E &amp; NE</td>\n",
       "      <td>Monthly</td>\n",
       "      <td>2010</td>\n",
       "      <td>FEB</td>\n",
       "      <td>71.7</td>\n",
       "      <td>1.6</td>\n",
       "    </tr>\n",
       "    <tr>\n",
       "      <th>2</th>\n",
       "      <td>Lincolnshire</td>\n",
       "      <td>England E &amp; NE</td>\n",
       "      <td>Monthly</td>\n",
       "      <td>2010</td>\n",
       "      <td>MAR</td>\n",
       "      <td>65.1</td>\n",
       "      <td>5.5</td>\n",
       "    </tr>\n",
       "    <tr>\n",
       "      <th>3</th>\n",
       "      <td>Lincolnshire</td>\n",
       "      <td>England E &amp; NE</td>\n",
       "      <td>Monthly</td>\n",
       "      <td>2010</td>\n",
       "      <td>APR</td>\n",
       "      <td>21.4</td>\n",
       "      <td>8.2</td>\n",
       "    </tr>\n",
       "    <tr>\n",
       "      <th>4</th>\n",
       "      <td>Lincolnshire</td>\n",
       "      <td>England E &amp; NE</td>\n",
       "      <td>Monthly</td>\n",
       "      <td>2010</td>\n",
       "      <td>MAY</td>\n",
       "      <td>22.1</td>\n",
       "      <td>9.8</td>\n",
       "    </tr>\n",
       "  </tbody>\n",
       "</table>\n",
       "</div>"
      ],
      "text/plain": [
       "  OrganisationName         GeoName ReportingPeriodType  Year Period  \\\n",
       "0     Lincolnshire  England E & NE             Monthly  2010    JAN   \n",
       "1     Lincolnshire  England E & NE             Monthly  2010    FEB   \n",
       "2     Lincolnshire  England E & NE             Monthly  2010    MAR   \n",
       "3     Lincolnshire  England E & NE             Monthly  2010    APR   \n",
       "4     Lincolnshire  England E & NE             Monthly  2010    MAY   \n",
       "\n",
       "   Rainfallmm  Temp  \n",
       "0        69.5   0.8  \n",
       "1        71.7   1.6  \n",
       "2        65.1   5.5  \n",
       "3        21.4   8.2  \n",
       "4        22.1   9.8  "
      ]
     },
     "execution_count": 3,
     "metadata": {},
     "output_type": "execute_result"
    }
   ],
   "source": [
    "df.head()"
   ]
  },
  {
   "cell_type": "code",
   "execution_count": 4,
   "metadata": {},
   "outputs": [
    {
     "data": {
      "text/plain": [
       "(170, 7)"
      ]
     },
     "execution_count": 4,
     "metadata": {},
     "output_type": "execute_result"
    }
   ],
   "source": [
    "df.shape"
   ]
  },
  {
   "cell_type": "code",
   "execution_count": 5,
   "metadata": {},
   "outputs": [
    {
     "name": "stdout",
     "output_type": "stream",
     "text": [
      "<class 'pandas.core.frame.DataFrame'>\n",
      "RangeIndex: 170 entries, 0 to 169\n",
      "Data columns (total 7 columns):\n",
      " #   Column               Non-Null Count  Dtype  \n",
      "---  ------               --------------  -----  \n",
      " 0   OrganisationName     170 non-null    object \n",
      " 1   GeoName              170 non-null    object \n",
      " 2   ReportingPeriodType  170 non-null    object \n",
      " 3   Year                 170 non-null    int64  \n",
      " 4   Period               170 non-null    object \n",
      " 5   Rainfallmm           170 non-null    float64\n",
      " 6   Temp                 170 non-null    float64\n",
      "dtypes: float64(2), int64(1), object(4)\n",
      "memory usage: 9.4+ KB\n"
     ]
    }
   ],
   "source": [
    "df.info()"
   ]
  },
  {
   "cell_type": "code",
   "execution_count": 6,
   "metadata": {},
   "outputs": [
    {
     "data": {
      "text/plain": [
       "OrganisationName        object\n",
       "GeoName                 object\n",
       "ReportingPeriodType     object\n",
       "Year                     int64\n",
       "Period                  object\n",
       "Rainfallmm             float64\n",
       "Temp                   float64\n",
       "dtype: object"
      ]
     },
     "execution_count": 6,
     "metadata": {},
     "output_type": "execute_result"
    }
   ],
   "source": [
    "df.dtypes"
   ]
  },
  {
   "cell_type": "markdown",
   "metadata": {},
   "source": [
    "### Basic Statistics"
   ]
  },
  {
   "cell_type": "code",
   "execution_count": 7,
   "metadata": {},
   "outputs": [
    {
     "data": {
      "text/html": [
       "<div>\n",
       "<style scoped>\n",
       "    .dataframe tbody tr th:only-of-type {\n",
       "        vertical-align: middle;\n",
       "    }\n",
       "\n",
       "    .dataframe tbody tr th {\n",
       "        vertical-align: top;\n",
       "    }\n",
       "\n",
       "    .dataframe thead th {\n",
       "        text-align: right;\n",
       "    }\n",
       "</style>\n",
       "<table border=\"1\" class=\"dataframe\">\n",
       "  <thead>\n",
       "    <tr style=\"text-align: right;\">\n",
       "      <th></th>\n",
       "      <th>Year</th>\n",
       "      <th>Rainfallmm</th>\n",
       "      <th>Temp</th>\n",
       "    </tr>\n",
       "  </thead>\n",
       "  <tbody>\n",
       "    <tr>\n",
       "      <th>count</th>\n",
       "      <td>170.000000</td>\n",
       "      <td>170.000000</td>\n",
       "      <td>170.000000</td>\n",
       "    </tr>\n",
       "    <tr>\n",
       "      <th>mean</th>\n",
       "      <td>2014.500000</td>\n",
       "      <td>140.540588</td>\n",
       "      <td>9.300235</td>\n",
       "    </tr>\n",
       "    <tr>\n",
       "      <th>std</th>\n",
       "      <td>2.880767</td>\n",
       "      <td>179.608045</td>\n",
       "      <td>4.355358</td>\n",
       "    </tr>\n",
       "    <tr>\n",
       "      <th>min</th>\n",
       "      <td>2010.000000</td>\n",
       "      <td>10.300000</td>\n",
       "      <td>-1.200000</td>\n",
       "    </tr>\n",
       "    <tr>\n",
       "      <th>25%</th>\n",
       "      <td>2012.000000</td>\n",
       "      <td>52.625000</td>\n",
       "      <td>5.485000</td>\n",
       "    </tr>\n",
       "    <tr>\n",
       "      <th>50%</th>\n",
       "      <td>2014.500000</td>\n",
       "      <td>78.800000</td>\n",
       "      <td>9.320000</td>\n",
       "    </tr>\n",
       "    <tr>\n",
       "      <th>75%</th>\n",
       "      <td>2017.000000</td>\n",
       "      <td>147.900000</td>\n",
       "      <td>12.975000</td>\n",
       "    </tr>\n",
       "    <tr>\n",
       "      <th>max</th>\n",
       "      <td>2019.000000</td>\n",
       "      <td>1043.000000</td>\n",
       "      <td>17.800000</td>\n",
       "    </tr>\n",
       "  </tbody>\n",
       "</table>\n",
       "</div>"
      ],
      "text/plain": [
       "              Year   Rainfallmm        Temp\n",
       "count   170.000000   170.000000  170.000000\n",
       "mean   2014.500000   140.540588    9.300235\n",
       "std       2.880767   179.608045    4.355358\n",
       "min    2010.000000    10.300000   -1.200000\n",
       "25%    2012.000000    52.625000    5.485000\n",
       "50%    2014.500000    78.800000    9.320000\n",
       "75%    2017.000000   147.900000   12.975000\n",
       "max    2019.000000  1043.000000   17.800000"
      ]
     },
     "execution_count": 7,
     "metadata": {},
     "output_type": "execute_result"
    }
   ],
   "source": [
    "df.describe()"
   ]
  },
  {
   "cell_type": "markdown",
   "metadata": {},
   "source": [
    "### Simple visualizations"
   ]
  },
  {
   "cell_type": "code",
   "execution_count": 8,
   "metadata": {},
   "outputs": [],
   "source": [
    "import matplotlib.pyplot as plt\n",
    "import seaborn as sns"
   ]
  },
  {
   "cell_type": "code",
   "execution_count": 9,
   "metadata": {},
   "outputs": [
    {
     "data": {
      "text/plain": [
       "<matplotlib.axes._subplots.AxesSubplot at 0x2afeede4250>"
      ]
     },
     "execution_count": 9,
     "metadata": {},
     "output_type": "execute_result"
    },
    {
     "data": {
      "image/png": "[encoded data removed]",
      "text/plain": [
       "<Figure size 432x288 with 1 Axes>"
      ]
     },
     "metadata": {
      "needs_background": "light"
     },
     "output_type": "display_data"
    }
   ],
   "source": [
    "sns.countplot(df['OrganisationName'])"
   ]
  },
  {
   "cell_type": "markdown",
   "metadata": {},
   "source": [
    "Per the graph above, all measurements are taken in the same region."
   ]
  },
  {
   "cell_type": "code",
   "execution_count": 10,
   "metadata": {},
   "outputs": [
    {
     "data": {
      "text/plain": [
       "<matplotlib.axes._subplots.AxesSubplot at 0x2afef4ddee0>"
      ]
     },
     "execution_count": 10,
     "metadata": {},
     "output_type": "execute_result"
    },
    {
     "data": {
      "image/png": "[encoded data removed]",
      "text/plain": [
       "<Figure size 432x288 with 1 Axes>"
      ]
     },
     "metadata": {
      "needs_background": "light"
     },
     "output_type": "display_data"
    }
   ],
   "source": [
    "sns.countplot(df['Year'])"
   ]
  },
  {
   "cell_type": "code",
   "execution_count": 11,
   "metadata": {},
   "outputs": [
    {
     "data": {
      "text/plain": [
       "<matplotlib.axes._subplots.AxesSubplot at 0x2afef5a0250>"
      ]
     },
     "execution_count": 11,
     "metadata": {},
     "output_type": "execute_result"
    },
    {
     "data": {
      "image/png": "[encoded data removed]",
      "text/plain": [
       "<Figure size 720x576 with 1 Axes>"
      ]
     },
     "metadata": {},
     "output_type": "display_data"
    }
   ],
   "source": [
    "sns.set(rc = {'figure.figsize':(10,8)})\n",
    "sns.boxplot(x=df['Rainfallmm'])"
   ]
  },
  {
   "cell_type": "code",
   "execution_count": 12,
   "metadata": {},
   "outputs": [],
   "source": [
    "month_df = df[df['ReportingPeriodType'] == 'Monthly']"
   ]
  },
  {
   "cell_type": "code",
   "execution_count": 13,
   "metadata": {},
   "outputs": [
    {
     "data": {
      "text/plain": [
       "<matplotlib.axes._subplots.AxesSubplot at 0x2afef5ab520>"
      ]
     },
     "execution_count": 13,
     "metadata": {},
     "output_type": "execute_result"
    },
    {
     "data": {
      "image/png": "[encoded data removed]",
      "text/plain": [
       "<Figure size 720x576 with 1 Axes>"
      ]
     },
     "metadata": {},
     "output_type": "display_data"
    }
   ],
   "source": [
    "sns.scatterplot(x=month_df['Period'], y=month_df['Rainfallmm'])"
   ]
  },
  {
   "cell_type": "code",
   "execution_count": 14,
   "metadata": {},
   "outputs": [
    {
     "data": {
      "text/plain": [
       "<matplotlib.axes._subplots.AxesSubplot at 0x2afef67dfa0>"
      ]
     },
     "execution_count": 14,
     "metadata": {},
     "output_type": "execute_result"
    },
    {
     "data": {
      "image/png": "[encoded data removed]",
      "text/plain": [
       "<Figure size 720x576 with 1 Axes>"
      ]
     },
     "metadata": {},
     "output_type": "display_data"
    }
   ],
   "source": [
    "sns.scatterplot(x=month_df['Period'], y=month_df['Temp'])"
   ]
  },
  {
   "cell_type": "markdown",
   "metadata": {},
   "source": [
    "### Evaluate for missing or incomplete data"
   ]
  },
  {
   "cell_type": "code",
   "execution_count": 15,
   "metadata": {},
   "outputs": [
    {
     "data": {
      "text/plain": [
       "OrganisationName       False\n",
       "GeoName                False\n",
       "ReportingPeriodType    False\n",
       "Year                   False\n",
       "Period                 False\n",
       "Rainfallmm             False\n",
       "Temp                   False\n",
       "dtype: bool"
      ]
     },
     "execution_count": 15,
     "metadata": {},
     "output_type": "execute_result"
    }
   ],
   "source": [
    "month_df.isna().any()"
   ]
  },
  {
   "cell_type": "code",
   "execution_count": 16,
   "metadata": {
    "scrolled": true
   },
   "outputs": [
    {
     "data": {
      "text/plain": [
       "OrganisationName       False\n",
       "GeoName                False\n",
       "ReportingPeriodType    False\n",
       "Year                   False\n",
       "Period                 False\n",
       "Rainfallmm             False\n",
       "Temp                   False\n",
       "dtype: bool"
      ]
     },
     "execution_count": 16,
     "metadata": {},
     "output_type": "execute_result"
    }
   ],
   "source": [
    "df.isna().any()"
   ]
  },
  {
   "cell_type": "code",
   "execution_count": 17,
   "metadata": {},
   "outputs": [
    {
     "data": {
      "text/plain": [
       "OrganisationName       120\n",
       "GeoName                120\n",
       "ReportingPeriodType    120\n",
       "Year                   120\n",
       "Period                 120\n",
       "Rainfallmm             120\n",
       "Temp                   120\n",
       "dtype: int64"
      ]
     },
     "execution_count": 17,
     "metadata": {},
     "output_type": "execute_result"
    }
   ],
   "source": [
    "month_df.count()"
   ]
  },
  {
   "cell_type": "markdown",
   "metadata": {},
   "source": [
    "# Regression using Pandas"
   ]
  },
  {
   "cell_type": "markdown",
   "metadata": {},
   "source": [
    "### Linear regression using month and temperature data"
   ]
  },
  {
   "cell_type": "code",
   "execution_count": 18,
   "metadata": {},
   "outputs": [],
   "source": [
    "month_numbers = [1, 2, 3, 4, 5, 6, 7, 8, 9, 10, 11, 12]\n",
    "month_numbers = np.tile(month_numbers, 10)"
   ]
  },
  {
   "cell_type": "code",
   "execution_count": 19,
   "metadata": {},
   "outputs": [
    {
     "data": {
      "text/html": [
       "<div>\n",
       "<style scoped>\n",
       "    .dataframe tbody tr th:only-of-type {\n",
       "        vertical-align: middle;\n",
       "    }\n",
       "\n",
       "    .dataframe tbody tr th {\n",
       "        vertical-align: top;\n",
       "    }\n",
       "\n",
       "    .dataframe thead th {\n",
       "        text-align: right;\n",
       "    }\n",
       "</style>\n",
       "<table border=\"1\" class=\"dataframe\">\n",
       "  <thead>\n",
       "    <tr style=\"text-align: right;\">\n",
       "      <th></th>\n",
       "      <th>OrganisationName</th>\n",
       "      <th>GeoName</th>\n",
       "      <th>ReportingPeriodType</th>\n",
       "      <th>Year</th>\n",
       "      <th>Period</th>\n",
       "      <th>Rainfallmm</th>\n",
       "      <th>Temp</th>\n",
       "      <th>MonthNumbers</th>\n",
       "    </tr>\n",
       "  </thead>\n",
       "  <tbody>\n",
       "    <tr>\n",
       "      <th>0</th>\n",
       "      <td>Lincolnshire</td>\n",
       "      <td>England E &amp; NE</td>\n",
       "      <td>Monthly</td>\n",
       "      <td>2010</td>\n",
       "      <td>JAN</td>\n",
       "      <td>69.5</td>\n",
       "      <td>0.8</td>\n",
       "      <td>1</td>\n",
       "    </tr>\n",
       "    <tr>\n",
       "      <th>1</th>\n",
       "      <td>Lincolnshire</td>\n",
       "      <td>England E &amp; NE</td>\n",
       "      <td>Monthly</td>\n",
       "      <td>2010</td>\n",
       "      <td>FEB</td>\n",
       "      <td>71.7</td>\n",
       "      <td>1.6</td>\n",
       "      <td>2</td>\n",
       "    </tr>\n",
       "    <tr>\n",
       "      <th>2</th>\n",
       "      <td>Lincolnshire</td>\n",
       "      <td>England E &amp; NE</td>\n",
       "      <td>Monthly</td>\n",
       "      <td>2010</td>\n",
       "      <td>MAR</td>\n",
       "      <td>65.1</td>\n",
       "      <td>5.5</td>\n",
       "      <td>3</td>\n",
       "    </tr>\n",
       "    <tr>\n",
       "      <th>3</th>\n",
       "      <td>Lincolnshire</td>\n",
       "      <td>England E &amp; NE</td>\n",
       "      <td>Monthly</td>\n",
       "      <td>2010</td>\n",
       "      <td>APR</td>\n",
       "      <td>21.4</td>\n",
       "      <td>8.2</td>\n",
       "      <td>4</td>\n",
       "    </tr>\n",
       "    <tr>\n",
       "      <th>4</th>\n",
       "      <td>Lincolnshire</td>\n",
       "      <td>England E &amp; NE</td>\n",
       "      <td>Monthly</td>\n",
       "      <td>2010</td>\n",
       "      <td>MAY</td>\n",
       "      <td>22.1</td>\n",
       "      <td>9.8</td>\n",
       "      <td>5</td>\n",
       "    </tr>\n",
       "    <tr>\n",
       "      <th>...</th>\n",
       "      <td>...</td>\n",
       "      <td>...</td>\n",
       "      <td>...</td>\n",
       "      <td>...</td>\n",
       "      <td>...</td>\n",
       "      <td>...</td>\n",
       "      <td>...</td>\n",
       "      <td>...</td>\n",
       "    </tr>\n",
       "    <tr>\n",
       "      <th>160</th>\n",
       "      <td>Lincolnshire</td>\n",
       "      <td>England E &amp; NE</td>\n",
       "      <td>Monthly</td>\n",
       "      <td>2019</td>\n",
       "      <td>AUG</td>\n",
       "      <td>89.1</td>\n",
       "      <td>16.5</td>\n",
       "      <td>8</td>\n",
       "    </tr>\n",
       "    <tr>\n",
       "      <th>161</th>\n",
       "      <td>Lincolnshire</td>\n",
       "      <td>England E &amp; NE</td>\n",
       "      <td>Monthly</td>\n",
       "      <td>2019</td>\n",
       "      <td>SEP</td>\n",
       "      <td>104.9</td>\n",
       "      <td>13.4</td>\n",
       "      <td>9</td>\n",
       "    </tr>\n",
       "    <tr>\n",
       "      <th>162</th>\n",
       "      <td>Lincolnshire</td>\n",
       "      <td>England E &amp; NE</td>\n",
       "      <td>Monthly</td>\n",
       "      <td>2019</td>\n",
       "      <td>OCT</td>\n",
       "      <td>115.4</td>\n",
       "      <td>8.8</td>\n",
       "      <td>10</td>\n",
       "    </tr>\n",
       "    <tr>\n",
       "      <th>163</th>\n",
       "      <td>Lincolnshire</td>\n",
       "      <td>England E &amp; NE</td>\n",
       "      <td>Monthly</td>\n",
       "      <td>2019</td>\n",
       "      <td>NOV</td>\n",
       "      <td>124.0</td>\n",
       "      <td>5.6</td>\n",
       "      <td>11</td>\n",
       "    </tr>\n",
       "    <tr>\n",
       "      <th>164</th>\n",
       "      <td>Lincolnshire</td>\n",
       "      <td>England E &amp; NE</td>\n",
       "      <td>Monthly</td>\n",
       "      <td>2019</td>\n",
       "      <td>DEC</td>\n",
       "      <td>61.4</td>\n",
       "      <td>4.9</td>\n",
       "      <td>12</td>\n",
       "    </tr>\n",
       "  </tbody>\n",
       "</table>\n",
       "<p>120 rows × 8 columns</p>\n",
       "</div>"
      ],
      "text/plain": [
       "    OrganisationName         GeoName ReportingPeriodType  Year Period  \\\n",
       "0       Lincolnshire  England E & NE             Monthly  2010    JAN   \n",
       "1       Lincolnshire  England E & NE             Monthly  2010    FEB   \n",
       "2       Lincolnshire  England E & NE             Monthly  2010    MAR   \n",
       "3       Lincolnshire  England E & NE             Monthly  2010    APR   \n",
       "4       Lincolnshire  England E & NE             Monthly  2010    MAY   \n",
       "..               ...             ...                 ...   ...    ...   \n",
       "160     Lincolnshire  England E & NE             Monthly  2019    AUG   \n",
       "161     Lincolnshire  England E & NE             Monthly  2019    SEP   \n",
       "162     Lincolnshire  England E & NE             Monthly  2019    OCT   \n",
       "163     Lincolnshire  England E & NE             Monthly  2019    NOV   \n",
       "164     Lincolnshire  England E & NE             Monthly  2019    DEC   \n",
       "\n",
       "     Rainfallmm  Temp  MonthNumbers  \n",
       "0          69.5   0.8             1  \n",
       "1          71.7   1.6             2  \n",
       "2          65.1   5.5             3  \n",
       "3          21.4   8.2             4  \n",
       "4          22.1   9.8             5  \n",
       "..          ...   ...           ...  \n",
       "160        89.1  16.5             8  \n",
       "161       104.9  13.4             9  \n",
       "162       115.4   8.8            10  \n",
       "163       124.0   5.6            11  \n",
       "164        61.4   4.9            12  \n",
       "\n",
       "[120 rows x 8 columns]"
      ]
     },
     "execution_count": 19,
     "metadata": {},
     "output_type": "execute_result"
    }
   ],
   "source": [
    "pd.options.mode.chained_assignment = None\n",
    "month_df['MonthNumbers'] = month_numbers;\n",
    "month_df"
   ]
  },
  {
   "cell_type": "code",
   "execution_count": 20,
   "metadata": {},
   "outputs": [],
   "source": [
    "from sklearn import datasets, linear_model"
   ]
  },
  {
   "cell_type": "code",
   "execution_count": 21,
   "metadata": {},
   "outputs": [],
   "source": [
    "model1 = linear_model.LinearRegression()"
   ]
  },
  {
   "cell_type": "code",
   "execution_count": 22,
   "metadata": {},
   "outputs": [
    {
     "data": {
      "text/plain": [
       "LinearRegression()"
      ]
     },
     "execution_count": 22,
     "metadata": {},
     "output_type": "execute_result"
    }
   ],
   "source": [
    "xData = month_df['MonthNumbers'].to_numpy().reshape(-1, 1)\n",
    "yData = month_df['Temp'].to_numpy().reshape(-1, 1)\n",
    "model1.fit(xData,yData)"
   ]
  },
  {
   "cell_type": "code",
   "execution_count": 23,
   "metadata": {},
   "outputs": [
    {
     "data": {
      "text/plain": [
       "0.07959705083650226"
      ]
     },
     "execution_count": 23,
     "metadata": {},
     "output_type": "execute_result"
    }
   ],
   "source": [
    "model1.score(xData,yData)"
   ]
  },
  {
   "cell_type": "markdown",
   "metadata": {},
   "source": [
    "### Quadratic regression using month and temperature data"
   ]
  },
  {
   "cell_type": "code",
   "execution_count": 24,
   "metadata": {},
   "outputs": [],
   "source": [
    "from sklearn.preprocessing import PolynomialFeatures"
   ]
  },
  {
   "cell_type": "code",
   "execution_count": 25,
   "metadata": {},
   "outputs": [],
   "source": [
    "quad_df = pd.concat([month_df['MonthNumbers'], month_df['Temp']], axis=1)"
   ]
  },
  {
   "cell_type": "code",
   "execution_count": 26,
   "metadata": {},
   "outputs": [
    {
     "data": {
      "text/html": [
       "<div>\n",
       "<style scoped>\n",
       "    .dataframe tbody tr th:only-of-type {\n",
       "        vertical-align: middle;\n",
       "    }\n",
       "\n",
       "    .dataframe tbody tr th {\n",
       "        vertical-align: top;\n",
       "    }\n",
       "\n",
       "    .dataframe thead th {\n",
       "        text-align: right;\n",
       "    }\n",
       "</style>\n",
       "<table border=\"1\" class=\"dataframe\">\n",
       "  <thead>\n",
       "    <tr style=\"text-align: right;\">\n",
       "      <th></th>\n",
       "      <th>MonthNumbers</th>\n",
       "      <th>Temp</th>\n",
       "    </tr>\n",
       "  </thead>\n",
       "  <tbody>\n",
       "    <tr>\n",
       "      <th>0</th>\n",
       "      <td>1</td>\n",
       "      <td>0.8</td>\n",
       "    </tr>\n",
       "    <tr>\n",
       "      <th>1</th>\n",
       "      <td>2</td>\n",
       "      <td>1.6</td>\n",
       "    </tr>\n",
       "    <tr>\n",
       "      <th>2</th>\n",
       "      <td>3</td>\n",
       "      <td>5.5</td>\n",
       "    </tr>\n",
       "    <tr>\n",
       "      <th>3</th>\n",
       "      <td>4</td>\n",
       "      <td>8.2</td>\n",
       "    </tr>\n",
       "    <tr>\n",
       "      <th>4</th>\n",
       "      <td>5</td>\n",
       "      <td>9.8</td>\n",
       "    </tr>\n",
       "    <tr>\n",
       "      <th>...</th>\n",
       "      <td>...</td>\n",
       "      <td>...</td>\n",
       "    </tr>\n",
       "    <tr>\n",
       "      <th>160</th>\n",
       "      <td>8</td>\n",
       "      <td>16.5</td>\n",
       "    </tr>\n",
       "    <tr>\n",
       "      <th>161</th>\n",
       "      <td>9</td>\n",
       "      <td>13.4</td>\n",
       "    </tr>\n",
       "    <tr>\n",
       "      <th>162</th>\n",
       "      <td>10</td>\n",
       "      <td>8.8</td>\n",
       "    </tr>\n",
       "    <tr>\n",
       "      <th>163</th>\n",
       "      <td>11</td>\n",
       "      <td>5.6</td>\n",
       "    </tr>\n",
       "    <tr>\n",
       "      <th>164</th>\n",
       "      <td>12</td>\n",
       "      <td>4.9</td>\n",
       "    </tr>\n",
       "  </tbody>\n",
       "</table>\n",
       "<p>120 rows × 2 columns</p>\n",
       "</div>"
      ],
      "text/plain": [
       "     MonthNumbers  Temp\n",
       "0               1   0.8\n",
       "1               2   1.6\n",
       "2               3   5.5\n",
       "3               4   8.2\n",
       "4               5   9.8\n",
       "..            ...   ...\n",
       "160             8  16.5\n",
       "161             9  13.4\n",
       "162            10   8.8\n",
       "163            11   5.6\n",
       "164            12   4.9\n",
       "\n",
       "[120 rows x 2 columns]"
      ]
     },
     "execution_count": 26,
     "metadata": {},
     "output_type": "execute_result"
    }
   ],
   "source": [
    "quad_df"
   ]
  },
  {
   "cell_type": "code",
   "execution_count": 27,
   "metadata": {},
   "outputs": [],
   "source": [
    "quad_arr = quad_df.to_numpy().reshape(120, 2)"
   ]
  },
  {
   "cell_type": "code",
   "execution_count": 28,
   "metadata": {},
   "outputs": [],
   "source": [
    "poly = PolynomialFeatures(2)"
   ]
  },
  {
   "cell_type": "code",
   "execution_count": 29,
   "metadata": {
    "scrolled": false
   },
   "outputs": [
    {
     "data": {
      "text/plain": [
       "array([[  1.  ,   1.  ,   0.8 ,   1.  ,   0.8 ,   0.64],\n",
       "       [  1.  ,   2.  ,   1.6 ,   4.  ,   3.2 ,   2.56],\n",
       "       [  1.  ,   3.  ,   5.5 ,   9.  ,  16.5 ,  30.25],\n",
       "       [  1.  ,   4.  ,   8.2 ,  16.  ,  32.8 ,  67.24],\n",
       "       [  1.  ,   5.  ,   9.8 ,  25.  ,  49.  ,  96.04],\n",
       "       [  1.  ,   6.  ,  14.3 ,  36.  ,  85.8 , 204.49],\n",
       "       [  1.  ,   7.  ,  16.4 ,  49.  , 114.8 , 268.96],\n",
       "       [  1.  ,   8.  ,  14.6 ,  64.  , 116.8 , 213.16],\n",
       "       [  1.  ,   9.  ,  13.4 ,  81.  , 120.6 , 179.56],\n",
       "       [  1.  ,  10.  ,   9.6 , 100.  ,  96.  ,  92.16],\n",
       "       [  1.  ,  11.  ,   4.5 , 121.  ,  49.5 ,  20.25],\n",
       "       [  1.  ,  12.  ,  -1.2 , 144.  , -14.4 ,   1.44],\n",
       "       [  1.  ,   1.  ,   3.1 ,   1.  ,   3.1 ,   9.61],\n",
       "       [  1.  ,   2.  ,   5.4 ,   4.  ,  10.8 ,  29.16],\n",
       "       [  1.  ,   3.  ,   6.  ,   9.  ,  18.  ,  36.  ],\n",
       "       [  1.  ,   4.  ,  10.7 ,  16.  ,  42.8 , 114.49],\n",
       "       [  1.  ,   5.  ,  11.5 ,  25.  ,  57.5 , 132.25],\n",
       "       [  1.  ,   6.  ,  13.5 ,  36.  ,  81.  , 182.25],\n",
       "       [  1.  ,   7.  ,  14.4 ,  49.  , 100.8 , 207.36],\n",
       "       [  1.  ,   8.  ,  14.6 ,  64.  , 116.8 , 213.16],\n",
       "       [  1.  ,   9.  ,  14.3 ,  81.  , 128.7 , 204.49],\n",
       "       [  1.  ,  10.  ,  11.4 , 100.  , 114.  , 129.96],\n",
       "       [  1.  ,  11.  ,   8.5 , 121.  ,  93.5 ,  72.25],\n",
       "       [  1.  ,  12.  ,   4.5 , 144.  ,  54.  ,  20.25],\n",
       "       [  1.  ,   1.  ,   4.3 ,   1.  ,   4.3 ,  18.49],\n",
       "       [  1.  ,   2.  ,   3.9 ,   4.  ,   7.8 ,  15.21],\n",
       "       [  1.  ,   3.  ,   7.8 ,   9.  ,  23.4 ,  60.84],\n",
       "       [  1.  ,   4.  ,   6.4 ,  16.  ,  25.6 ,  40.96],\n",
       "       [  1.  ,   5.  ,  10.3 ,  25.  ,  51.5 , 106.09],\n",
       "       [  1.  ,   6.  ,  12.5 ,  36.  ,  75.  , 156.25],\n",
       "       [  1.  ,   7.  ,  14.6 ,  49.  , 102.2 , 213.16],\n",
       "       [  1.  ,   8.  ,  15.7 ,  64.  , 125.6 , 246.49],\n",
       "       [  1.  ,   9.  ,  12.5 ,  81.  , 112.5 , 156.25],\n",
       "       [  1.  ,  10.  ,   8.2 , 100.  ,  82.  ,  67.24],\n",
       "       [  1.  ,  11.  ,   5.8 , 121.  ,  63.8 ,  33.64],\n",
       "       [  1.  ,  12.  ,   3.6 , 144.  ,  43.2 ,  12.96],\n",
       "       [  1.  ,   1.  ,   2.8 ,   1.  ,   2.8 ,   7.84],\n",
       "       [  1.  ,   2.  ,   2.6 ,   4.  ,   5.2 ,   6.76],\n",
       "       [  1.  ,   3.  ,   1.9 ,   9.  ,   5.7 ,   3.61],\n",
       "       [  1.  ,   4.  ,   6.8 ,  16.  ,  27.2 ,  46.24],\n",
       "       [  1.  ,   5.  ,   9.9 ,  25.  ,  49.5 ,  98.01],\n",
       "       [  1.  ,   6.  ,  12.9 ,  36.  ,  77.4 , 166.41],\n",
       "       [  1.  ,   7.  ,  17.3 ,  49.  , 121.1 , 299.29],\n",
       "       [  1.  ,   8.  ,  16.2 ,  64.  , 129.6 , 262.44],\n",
       "       [  1.  ,   9.  ,  12.9 ,  81.  , 116.1 , 166.41],\n",
       "       [  1.  ,  10.  ,  11.6 , 100.  , 116.  , 134.56],\n",
       "       [  1.  ,  11.  ,   5.3 , 121.  ,  58.3 ,  28.09],\n",
       "       [  1.  ,  12.  ,   5.4 , 144.  ,  64.8 ,  29.16],\n",
       "       [  1.  ,   1.  ,   4.5 ,   1.  ,   4.5 ,  20.25],\n",
       "       [  1.  ,   2.  ,   5.3 ,   4.  ,  10.6 ,  28.09],\n",
       "       [  1.  ,   3.  ,   6.8 ,   9.  ,  20.4 ,  46.24],\n",
       "       [  1.  ,   4.  ,   9.3 ,  16.  ,  37.2 ,  86.49],\n",
       "       [  1.  ,   5.  ,  11.5 ,  25.  ,  57.5 , 132.25],\n",
       "       [  1.  ,   6.  ,  14.3 ,  36.  ,  85.8 , 204.49],\n",
       "       [  1.  ,   7.  ,  16.7 ,  49.  , 116.9 , 278.89],\n",
       "       [  1.  ,   8.  ,  14.4 ,  64.  , 115.2 , 207.36],\n",
       "       [  1.  ,   9.  ,  13.9 ,  81.  , 125.1 , 193.21],\n",
       "       [  1.  ,  10.  ,  11.3 , 100.  , 113.  , 127.69],\n",
       "       [  1.  ,  11.  ,   7.6 , 121.  ,  83.6 ,  57.76],\n",
       "       [  1.  ,  12.  ,   4.4 , 144.  ,  52.8 ,  19.36],\n",
       "       [  1.  ,   1.  ,   3.5 ,   1.  ,   3.5 ,  12.25],\n",
       "       [  1.  ,   2.  ,   3.5 ,   4.  ,   7.  ,  12.25],\n",
       "       [  1.  ,   3.  ,   5.6 ,   9.  ,  16.8 ,  31.36],\n",
       "       [  1.  ,   4.  ,   8.  ,  16.  ,  32.  ,  64.  ],\n",
       "       [  1.  ,   5.  ,  10.  ,  25.  ,  50.  , 100.  ],\n",
       "       [  1.  ,   6.  ,  12.9 ,  36.  ,  77.4 , 166.41],\n",
       "       [  1.  ,   7.  ,  14.9 ,  49.  , 104.3 , 222.01],\n",
       "       [  1.  ,   8.  ,  15.4 ,  64.  , 123.2 , 237.16],\n",
       "       [  1.  ,   9.  ,  12.  ,  81.  , 108.  , 144.  ],\n",
       "       [  1.  ,  10.  ,  10.1 , 100.  , 101.  , 102.01],\n",
       "       [  1.  ,  11.  ,   8.1 , 121.  ,  89.1 ,  65.61],\n",
       "       [  1.  ,  12.  ,   8.  , 144.  ,  96.  ,  64.  ],\n",
       "       [  1.  ,   1.  ,   4.4 ,   1.  ,   4.4 ,  19.36],\n",
       "       [  1.  ,   2.  ,   3.9 ,   4.  ,   7.8 ,  15.21],\n",
       "       [  1.  ,   3.  ,   5.3 ,   9.  ,  15.9 ,  28.09],\n",
       "       [  1.  ,   4.  ,   6.4 ,  16.  ,  25.6 ,  40.96],\n",
       "       [  1.  ,   5.  ,  11.  ,  25.  ,  55.  , 121.  ],\n",
       "       [  1.  ,   6.  ,  13.5 ,  36.  ,  81.  , 182.25],\n",
       "       [  1.  ,   7.  ,  16.  ,  49.  , 112.  , 256.  ],\n",
       "       [  1.  ,   8.  ,  16.  ,  64.  , 128.  , 256.  ],\n",
       "       [  1.  ,   9.  ,  15.2 ,  81.  , 136.8 , 231.04],\n",
       "       [  1.  ,  10.  ,  10.2 , 100.  , 102.  , 104.04],\n",
       "       [  1.  ,  11.  ,   4.8 , 121.  ,  52.8 ,  23.04],\n",
       "       [  1.  ,  12.  ,   5.6 , 144.  ,  67.2 ,  31.36],\n",
       "       [  1.  ,   1.  ,   3.3 ,   1.  ,   3.3 ,  10.89],\n",
       "       [  1.  ,   2.  ,   5.3 ,   4.  ,  10.6 ,  28.09],\n",
       "       [  1.  ,   3.  ,   7.6 ,   9.  ,  22.8 ,  57.76],\n",
       "       [  1.  ,   4.  ,   8.2 ,  16.  ,  32.8 ,  67.24],\n",
       "       [  1.  ,   5.  ,  12.2 ,  25.  ,  61.  , 148.84],\n",
       "       [  1.  ,   6.  ,  15.1 ,  36.  ,  90.6 , 228.01],\n",
       "       [  1.  ,   7.  ,  15.4 ,  49.  , 107.8 , 237.16],\n",
       "       [  1.  ,   8.  ,  15.  ,  64.  , 120.  , 225.  ],\n",
       "       [  1.  ,   9.  ,  12.9 ,  81.  , 116.1 , 166.41],\n",
       "       [  1.  ,  10.  ,  11.6 , 100.  , 116.  , 134.56],\n",
       "       [  1.  ,  11.  ,   5.8 , 121.  ,  63.8 ,  33.64],\n",
       "       [  1.  ,  12.  ,   3.8 , 144.  ,  45.6 ,  14.44],\n",
       "       [  1.  ,   1.  ,   4.1 ,   1.  ,   4.1 ,  16.81],\n",
       "       [  1.  ,   2.  ,   2.1 ,   4.  ,   4.2 ,   4.41],\n",
       "       [  1.  ,   3.  ,   3.8 ,   9.  ,  11.4 ,  14.44],\n",
       "       [  1.  ,   4.  ,   8.6 ,  16.  ,  34.4 ,  73.96],\n",
       "       [  1.  ,   5.  ,  12.2 ,  25.  ,  61.  , 148.84],\n",
       "       [  1.  ,   6.  ,  14.6 ,  36.  ,  87.6 , 213.16],\n",
       "       [  1.  ,   7.  ,  17.8 ,  49.  , 124.6 , 316.84],\n",
       "       [  1.  ,   8.  ,  16.2 ,  64.  , 129.6 , 262.44],\n",
       "       [  1.  ,   9.  ,  13.  ,  81.  , 117.  , 169.  ],\n",
       "       [  1.  ,  10.  ,  10.  , 100.  , 100.  , 100.  ],\n",
       "       [  1.  ,  11.  ,   7.4 , 121.  ,  81.4 ,  54.76],\n",
       "       [  1.  ,  12.  ,   5.4 , 144.  ,  64.8 ,  29.16],\n",
       "       [  1.  ,   1.  ,   3.4 ,   1.  ,   3.4 ,  11.56],\n",
       "       [  1.  ,   2.  ,   6.  ,   4.  ,  12.  ,  36.  ],\n",
       "       [  1.  ,   3.  ,   7.  ,   9.  ,  21.  ,  49.  ],\n",
       "       [  1.  ,   4.  ,   7.8 ,  16.  ,  31.2 ,  60.84],\n",
       "       [  1.  ,   5.  ,  10.3 ,  25.  ,  51.5 , 106.09],\n",
       "       [  1.  ,   6.  ,  13.4 ,  36.  ,  80.4 , 179.56],\n",
       "       [  1.  ,   7.  ,  17.  ,  49.  , 119.  , 289.  ],\n",
       "       [  1.  ,   8.  ,  16.5 ,  64.  , 132.  , 272.25],\n",
       "       [  1.  ,   9.  ,  13.4 ,  81.  , 120.6 , 179.56],\n",
       "       [  1.  ,  10.  ,   8.8 , 100.  ,  88.  ,  77.44],\n",
       "       [  1.  ,  11.  ,   5.6 , 121.  ,  61.6 ,  31.36],\n",
       "       [  1.  ,  12.  ,   4.9 , 144.  ,  58.8 ,  24.01]])"
      ]
     },
     "execution_count": 29,
     "metadata": {},
     "output_type": "execute_result"
    }
   ],
   "source": [
    "poly.fit_transform(quad_arr)"
   ]
  },
  {
   "cell_type": "markdown",
   "metadata": {},
   "source": [
    "### Linear regression using year and avg. rainfall temp data"
   ]
  },
  {
   "cell_type": "code",
   "execution_count": 30,
   "metadata": {},
   "outputs": [],
   "source": [
    "year = [2010, 2011, 2012, 2013, 2014, 2015, 2016, 2017, 2018, 2019]\n",
    "year = np.array(year).reshape(-1, 1)"
   ]
  },
  {
   "cell_type": "code",
   "execution_count": 31,
   "metadata": {},
   "outputs": [],
   "source": [
    "year1 = month_df[month_df['Year'] == 2010]\n",
    "year2 = month_df[month_df['Year'] == 2011]\n",
    "year3 = month_df[month_df['Year'] == 2012]\n",
    "year4 = month_df[month_df['Year'] == 2013]\n",
    "year5 = month_df[month_df['Year'] == 2014]\n",
    "year6 = month_df[month_df['Year'] == 2015]\n",
    "year7 = month_df[month_df['Year'] == 2016]\n",
    "year8 = month_df[month_df['Year'] == 2017]\n",
    "year9 = month_df[month_df['Year'] == 2018]\n",
    "year10 = month_df[month_df['Year'] == 2019]"
   ]
  },
  {
   "cell_type": "code",
   "execution_count": 32,
   "metadata": {},
   "outputs": [],
   "source": [
    "avg1 = year1['Temp'].mean()\n",
    "avg2 = year2['Temp'].mean()\n",
    "avg3 = year3['Temp'].mean()\n",
    "avg4 = year4['Temp'].mean()\n",
    "avg5 = year5['Temp'].mean()\n",
    "avg6 = year6['Temp'].mean()\n",
    "avg7 = year7['Temp'].mean()\n",
    "avg8 = year8['Temp'].mean()\n",
    "avg9 = year9['Temp'].mean()\n",
    "avg10 = year10['Temp'].mean()"
   ]
  },
  {
   "cell_type": "code",
   "execution_count": 33,
   "metadata": {},
   "outputs": [],
   "source": [
    "avg_rain_temp = [avg1, avg2, avg3, avg4, avg5, avg6, avg7, avg8, avg9, avg10]\n",
    "avg_rain_temp = np.array(avg_rain_temp).reshape(-1, 1)"
   ]
  },
  {
   "cell_type": "code",
   "execution_count": 34,
   "metadata": {},
   "outputs": [],
   "source": [
    "model2 = linear_model.LinearRegression()"
   ]
  },
  {
   "cell_type": "code",
   "execution_count": 35,
   "metadata": {},
   "outputs": [
    {
     "data": {
      "text/plain": [
       "LinearRegression()"
      ]
     },
     "execution_count": 35,
     "metadata": {},
     "output_type": "execute_result"
    }
   ],
   "source": [
    "model2.fit(year, avg_rain_temp)"
   ]
  },
  {
   "cell_type": "code",
   "execution_count": 36,
   "metadata": {},
   "outputs": [
    {
     "data": {
      "text/plain": [
       "0.2746916452136605"
      ]
     },
     "execution_count": 36,
     "metadata": {},
     "output_type": "execute_result"
    }
   ],
   "source": [
    "model2.score(year, avg_rain_temp)"
   ]
  },
  {
   "cell_type": "code",
   "execution_count": 37,
   "metadata": {},
   "outputs": [
    {
     "data": {
      "text/plain": [
       "array([[0.09878788]])"
      ]
     },
     "execution_count": 37,
     "metadata": {},
     "output_type": "execute_result"
    }
   ],
   "source": [
    "model2.coef_"
   ]
  },
  {
   "cell_type": "markdown",
   "metadata": {},
   "source": [
    "# Making a prediction based on year"
   ]
  },
  {
   "cell_type": "markdown",
   "metadata": {},
   "source": [
    "### What will the avg. rainfall temp be in the year 2020?"
   ]
  },
  {
   "cell_type": "code",
   "execution_count": 38,
   "metadata": {},
   "outputs": [
    {
     "data": {
      "text/plain": [
       "array([[9.84666667]])"
      ]
     },
     "execution_count": 38,
     "metadata": {},
     "output_type": "execute_result"
    }
   ],
   "source": [
    "model2.predict(np.array([2020]).reshape(-1,1))"
   ]
  },
  {
   "cell_type": "markdown",
   "metadata": {},
   "source": [
    "### What will the avg. rainfall temp be in the year 2022?"
   ]
  },
  {
   "cell_type": "code",
   "execution_count": 39,
   "metadata": {},
   "outputs": [
    {
     "data": {
      "text/plain": [
       "array([[10.04424242]])"
      ]
     },
     "execution_count": 39,
     "metadata": {},
     "output_type": "execute_result"
    }
   ],
   "source": [
    "model2.predict(np.array([2022]).reshape(-1,1))"
   ]
  },
  {
   "cell_type": "markdown",
   "metadata": {},
   "source": [
    "# Conclusion"
   ]
  },
  {
   "cell_type": "markdown",
   "metadata": {},
   "source": [
    "As can be seen in the prediction section above, the line of best fit predicts that the average rainfall temperature in 2020 will be 9.847 degrees Centigrade or Celsius, and that of 2022 will be 10.044 degrees C. Even with the general warming of the planet, this would be a very drastic change to observe in the span of two years, so it doesn't bear a very high confidence level. One reason for the possible inaccuracy of this data is the low number of data points. The trendline is determined from just 10 datapoints; the more that are added, the more apparent the relationship (or lack thereof) and the better calibrated the trendline become. This is especially important given that 10 years (over which the 10 data points were collected) is a very limited time when it comes to observing temperature trends. Were I to conduct multiple regression for this dataset, I would test whether or not the avg. rainfall temp is dependent upon both month and year. This way, the data would not be as affected by outliers as it currently is."
   ]
  }
 ],
 "metadata": {
  "kernelspec": {
   "display_name": "Python 3",
   "language": "python",
   "name": "python3"
  },
  "language_info": {
   "codemirror_mode": {
    "name": "ipython",
    "version": 3
   },
   "file_extension": ".py",
   "mimetype": "text/x-python",
   "name": "python",
   "nbconvert_exporter": "python",
   "pygments_lexer": "ipython3",
   "version": "3.8.3"
  }
 },
 "nbformat": 4,
 "nbformat_minor": 4
}
